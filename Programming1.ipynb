{
 "cells": [
  {
   "cell_type": "markdown",
   "id": "515a7cdb",
   "metadata": {},
   "source": [
    "## Recap - Data Types"
   ]
  },
  {
   "cell_type": "code",
   "execution_count": 1,
   "id": "87bf5842",
   "metadata": {},
   "outputs": [
    {
     "data": {
      "text/plain": [
       "int"
      ]
     },
     "execution_count": 1,
     "metadata": {},
     "output_type": "execute_result"
    }
   ],
   "source": [
    "type(5)"
   ]
  },
  {
   "cell_type": "code",
   "execution_count": 2,
   "id": "fab99b9e",
   "metadata": {},
   "outputs": [
    {
     "data": {
      "text/plain": [
       "float"
      ]
     },
     "execution_count": 2,
     "metadata": {},
     "output_type": "execute_result"
    }
   ],
   "source": [
    "type(5.7)"
   ]
  },
  {
   "cell_type": "code",
   "execution_count": 3,
   "id": "5a353d82",
   "metadata": {},
   "outputs": [
    {
     "data": {
      "text/plain": [
       "str"
      ]
     },
     "execution_count": 3,
     "metadata": {},
     "output_type": "execute_result"
    }
   ],
   "source": [
    "type(\"a\")"
   ]
  },
  {
   "cell_type": "code",
   "execution_count": 4,
   "id": "e20b49c3",
   "metadata": {},
   "outputs": [
    {
     "data": {
      "text/plain": [
       "bool"
      ]
     },
     "execution_count": 4,
     "metadata": {},
     "output_type": "execute_result"
    }
   ],
   "source": [
    "type(True)"
   ]
  },
  {
   "cell_type": "markdown",
   "id": "9bb24f08",
   "metadata": {},
   "source": [
    "## Variables"
   ]
  },
  {
   "cell_type": "code",
   "execution_count": 5,
   "id": "803e3cf2",
   "metadata": {},
   "outputs": [],
   "source": [
    "a = 5"
   ]
  },
  {
   "cell_type": "code",
   "execution_count": 6,
   "id": "80018f7d",
   "metadata": {},
   "outputs": [
    {
     "data": {
      "text/plain": [
       "40"
      ]
     },
     "execution_count": 6,
     "metadata": {},
     "output_type": "execute_result"
    }
   ],
   "source": [
    "a * 8"
   ]
  },
  {
   "cell_type": "code",
   "execution_count": 7,
   "id": "aac9c7eb",
   "metadata": {},
   "outputs": [
    {
     "data": {
      "text/plain": [
       "2.5"
      ]
     },
     "execution_count": 7,
     "metadata": {},
     "output_type": "execute_result"
    }
   ],
   "source": [
    "a / 2"
   ]
  },
  {
   "cell_type": "code",
   "execution_count": 8,
   "id": "5eef79f2",
   "metadata": {},
   "outputs": [],
   "source": [
    "a = a + 2"
   ]
  },
  {
   "cell_type": "code",
   "execution_count": 9,
   "id": "cfafee3c",
   "metadata": {},
   "outputs": [
    {
     "data": {
      "text/plain": [
       "7"
      ]
     },
     "execution_count": 9,
     "metadata": {},
     "output_type": "execute_result"
    }
   ],
   "source": [
    "a"
   ]
  },
  {
   "cell_type": "markdown",
   "id": "e70c73b2",
   "metadata": {},
   "source": [
    "## Data Structures"
   ]
  },
  {
   "cell_type": "markdown",
   "id": "38d7770a",
   "metadata": {},
   "source": [
    "## List (array)"
   ]
  },
  {
   "cell_type": "code",
   "execution_count": 10,
   "id": "6a6f8af5",
   "metadata": {},
   "outputs": [],
   "source": [
    "numList = [4, 6.5, 8, 10, 2, a]"
   ]
  },
  {
   "cell_type": "code",
   "execution_count": 11,
   "id": "ae64633c",
   "metadata": {},
   "outputs": [
    {
     "data": {
      "text/plain": [
       "[4, 6.5, 8, 10, 2, 7]"
      ]
     },
     "execution_count": 11,
     "metadata": {},
     "output_type": "execute_result"
    }
   ],
   "source": [
    "numList"
   ]
  },
  {
   "cell_type": "code",
   "execution_count": 12,
   "id": "d6317e75",
   "metadata": {},
   "outputs": [
    {
     "data": {
      "text/plain": [
       "list"
      ]
     },
     "execution_count": 12,
     "metadata": {},
     "output_type": "execute_result"
    }
   ],
   "source": [
    "type(numList)"
   ]
  },
  {
   "cell_type": "code",
   "execution_count": 13,
   "id": "32e1a403",
   "metadata": {},
   "outputs": [
    {
     "data": {
      "text/plain": [
       "6.5"
      ]
     },
     "execution_count": 13,
     "metadata": {},
     "output_type": "execute_result"
    }
   ],
   "source": [
    "numList[1]"
   ]
  },
  {
   "cell_type": "code",
   "execution_count": 14,
   "id": "134e2a42",
   "metadata": {},
   "outputs": [
    {
     "data": {
      "text/plain": [
       "4"
      ]
     },
     "execution_count": 14,
     "metadata": {},
     "output_type": "execute_result"
    }
   ],
   "source": [
    "numList[0]"
   ]
  },
  {
   "cell_type": "code",
   "execution_count": 16,
   "id": "66f7e63c",
   "metadata": {},
   "outputs": [
    {
     "data": {
      "text/plain": [
       "7"
      ]
     },
     "execution_count": 16,
     "metadata": {},
     "output_type": "execute_result"
    }
   ],
   "source": [
    "numList[5]"
   ]
  },
  {
   "cell_type": "code",
   "execution_count": 17,
   "id": "ea5d2e44",
   "metadata": {},
   "outputs": [
    {
     "data": {
      "text/plain": [
       "[4, 6.5, 8, 10, 2, 7]"
      ]
     },
     "execution_count": 17,
     "metadata": {},
     "output_type": "execute_result"
    }
   ],
   "source": [
    "numList"
   ]
  },
  {
   "cell_type": "code",
   "execution_count": 18,
   "id": "2892857c",
   "metadata": {},
   "outputs": [
    {
     "data": {
      "text/plain": [
       "7"
      ]
     },
     "execution_count": 18,
     "metadata": {},
     "output_type": "execute_result"
    }
   ],
   "source": [
    "numList[-1]"
   ]
  },
  {
   "cell_type": "code",
   "execution_count": 19,
   "id": "188370dd",
   "metadata": {},
   "outputs": [
    {
     "data": {
      "text/plain": [
       "2"
      ]
     },
     "execution_count": 19,
     "metadata": {},
     "output_type": "execute_result"
    }
   ],
   "source": [
    "numList[-2]"
   ]
  },
  {
   "cell_type": "code",
   "execution_count": 20,
   "id": "521fc465",
   "metadata": {},
   "outputs": [
    {
     "ename": "IndexError",
     "evalue": "list index out of range",
     "output_type": "error",
     "traceback": [
      "\u001b[1;31m---------------------------------------------------------------------------\u001b[0m",
      "\u001b[1;31mIndexError\u001b[0m                                Traceback (most recent call last)",
      "Cell \u001b[1;32mIn[20], line 1\u001b[0m\n\u001b[1;32m----> 1\u001b[0m numList[\u001b[38;5;241m6\u001b[39m]\n",
      "\u001b[1;31mIndexError\u001b[0m: list index out of range"
     ]
    }
   ],
   "source": [
    "numList[6]"
   ]
  },
  {
   "cell_type": "code",
   "execution_count": 21,
   "id": "e5a3cc10",
   "metadata": {},
   "outputs": [
    {
     "ename": "TypeError",
     "evalue": "list indices must be integers or slices, not float",
     "output_type": "error",
     "traceback": [
      "\u001b[1;31m---------------------------------------------------------------------------\u001b[0m",
      "\u001b[1;31mTypeError\u001b[0m                                 Traceback (most recent call last)",
      "Cell \u001b[1;32mIn[21], line 1\u001b[0m\n\u001b[1;32m----> 1\u001b[0m numList[\u001b[38;5;241m10\u001b[39m\u001b[38;5;241m/\u001b[39m\u001b[38;5;241m2\u001b[39m]\n",
      "\u001b[1;31mTypeError\u001b[0m: list indices must be integers or slices, not float"
     ]
    }
   ],
   "source": [
    "numList[10/2]"
   ]
  },
  {
   "cell_type": "code",
   "execution_count": 22,
   "id": "0f05aeaa",
   "metadata": {},
   "outputs": [
    {
     "data": {
      "text/plain": [
       "float"
      ]
     },
     "execution_count": 22,
     "metadata": {},
     "output_type": "execute_result"
    }
   ],
   "source": [
    "type(10/2)"
   ]
  },
  {
   "cell_type": "code",
   "execution_count": 23,
   "id": "d1d8a6cb",
   "metadata": {},
   "outputs": [
    {
     "data": {
      "text/plain": [
       "7"
      ]
     },
     "execution_count": 23,
     "metadata": {},
     "output_type": "execute_result"
    }
   ],
   "source": [
    "numList[10//2]"
   ]
  },
  {
   "cell_type": "code",
   "execution_count": 24,
   "id": "b498db5f",
   "metadata": {},
   "outputs": [
    {
     "data": {
      "text/plain": [
       "7"
      ]
     },
     "execution_count": 24,
     "metadata": {},
     "output_type": "execute_result"
    }
   ],
   "source": [
    "numList[int(10/2)]"
   ]
  },
  {
   "cell_type": "code",
   "execution_count": 25,
   "id": "7dba37ad",
   "metadata": {},
   "outputs": [],
   "source": [
    "generalList = [numList, \"Hello World\", True, 10, 10.10, [1, 2, 5, 7, 9]]"
   ]
  },
  {
   "cell_type": "code",
   "execution_count": 26,
   "id": "1d6b2700",
   "metadata": {},
   "outputs": [
    {
     "data": {
      "text/plain": [
       "[[4, 6.5, 8, 10, 2, 7], 'Hello World', True, 10, 10.1, [1, 2, 5, 7, 9]]"
      ]
     },
     "execution_count": 26,
     "metadata": {},
     "output_type": "execute_result"
    }
   ],
   "source": [
    "generalList"
   ]
  },
  {
   "cell_type": "code",
   "execution_count": 27,
   "id": "953ffa86",
   "metadata": {},
   "outputs": [
    {
     "data": {
      "text/plain": [
       "([4, 6.5, 8, 10, 2, 7], [-1])"
      ]
     },
     "execution_count": 27,
     "metadata": {},
     "output_type": "execute_result"
    }
   ],
   "source": [
    "generalList[0],[-1]"
   ]
  },
  {
   "cell_type": "code",
   "execution_count": 29,
   "id": "5a6f50b1",
   "metadata": {},
   "outputs": [
    {
     "data": {
      "text/plain": [
       "1"
      ]
     },
     "execution_count": 29,
     "metadata": {},
     "output_type": "execute_result"
    }
   ],
   "source": [
    "generalList[-1][0]"
   ]
  },
  {
   "cell_type": "code",
   "execution_count": 30,
   "id": "74307289",
   "metadata": {},
   "outputs": [
    {
     "data": {
      "text/plain": [
       "'Hello World'"
      ]
     },
     "execution_count": 30,
     "metadata": {},
     "output_type": "execute_result"
    }
   ],
   "source": [
    "generalList[1]"
   ]
  },
  {
   "cell_type": "markdown",
   "id": "bc966c3f",
   "metadata": {},
   "source": [
    "## Nested List\n",
    "numList is nested in generalList"
   ]
  },
  {
   "cell_type": "code",
   "execution_count": 31,
   "id": "a5503249",
   "metadata": {},
   "outputs": [
    {
     "data": {
      "text/plain": [
       "[4, 6.5, 8, 10, 2, 7]"
      ]
     },
     "execution_count": 31,
     "metadata": {},
     "output_type": "execute_result"
    }
   ],
   "source": [
    "numList"
   ]
  },
  {
   "cell_type": "code",
   "execution_count": 32,
   "id": "be7dc4f3",
   "metadata": {},
   "outputs": [],
   "source": [
    "numList.append(\"String\")"
   ]
  },
  {
   "cell_type": "code",
   "execution_count": 33,
   "id": "3b23cde5",
   "metadata": {},
   "outputs": [
    {
     "data": {
      "text/plain": [
       "[4, 6.5, 8, 10, 2, 7, 'String']"
      ]
     },
     "execution_count": 33,
     "metadata": {},
     "output_type": "execute_result"
    }
   ],
   "source": [
    "numList"
   ]
  },
  {
   "cell_type": "code",
   "execution_count": 34,
   "id": "17f64d4b",
   "metadata": {},
   "outputs": [],
   "source": [
    "numList.insert(3, True)"
   ]
  },
  {
   "cell_type": "code",
   "execution_count": 35,
   "id": "245d21a9",
   "metadata": {},
   "outputs": [
    {
     "data": {
      "text/plain": [
       "[4, 6.5, 8, True, 10, 2, 7, 'String']"
      ]
     },
     "execution_count": 35,
     "metadata": {},
     "output_type": "execute_result"
    }
   ],
   "source": [
    "numList"
   ]
  },
  {
   "cell_type": "code",
   "execution_count": 36,
   "id": "56a9f612",
   "metadata": {},
   "outputs": [],
   "source": [
    "numList.remove(8) # Removes the first instance of the element"
   ]
  },
  {
   "cell_type": "code",
   "execution_count": 37,
   "id": "0145e230",
   "metadata": {},
   "outputs": [
    {
     "data": {
      "text/plain": [
       "[4, 6.5, True, 10, 2, 7, 'String']"
      ]
     },
     "execution_count": 37,
     "metadata": {},
     "output_type": "execute_result"
    }
   ],
   "source": [
    "numList"
   ]
  },
  {
   "cell_type": "code",
   "execution_count": 39,
   "id": "0cf5ee5f",
   "metadata": {},
   "outputs": [
    {
     "data": {
      "text/plain": [
       "10"
      ]
     },
     "execution_count": 39,
     "metadata": {},
     "output_type": "execute_result"
    }
   ],
   "source": [
    "numList.pop(2) #Removes the elements at the specified index, and returns it"
   ]
  },
  {
   "cell_type": "code",
   "execution_count": 40,
   "id": "a57184cb",
   "metadata": {},
   "outputs": [
    {
     "data": {
      "text/plain": [
       "[4, 6.5, 2, 7, 'String']"
      ]
     },
     "execution_count": 40,
     "metadata": {},
     "output_type": "execute_result"
    }
   ],
   "source": [
    "numList"
   ]
  },
  {
   "cell_type": "code",
   "execution_count": 41,
   "id": "98c2cf87",
   "metadata": {},
   "outputs": [],
   "source": [
    "numList.append(8)"
   ]
  },
  {
   "cell_type": "code",
   "execution_count": 42,
   "id": "3c4250df",
   "metadata": {},
   "outputs": [],
   "source": [
    "numList.insert(0, 8)"
   ]
  },
  {
   "cell_type": "code",
   "execution_count": 43,
   "id": "8efa8a49",
   "metadata": {},
   "outputs": [
    {
     "data": {
      "text/plain": [
       "[8, 4, 6.5, 2, 7, 'String', 8]"
      ]
     },
     "execution_count": 43,
     "metadata": {},
     "output_type": "execute_result"
    }
   ],
   "source": [
    "numList"
   ]
  },
  {
   "cell_type": "code",
   "execution_count": 44,
   "id": "b882b7d6",
   "metadata": {},
   "outputs": [],
   "source": [
    "numList.remove(8)"
   ]
  },
  {
   "cell_type": "code",
   "execution_count": 45,
   "id": "b52bdc6c",
   "metadata": {},
   "outputs": [
    {
     "data": {
      "text/plain": [
       "[4, 6.5, 2, 7, 'String', 8]"
      ]
     },
     "execution_count": 45,
     "metadata": {},
     "output_type": "execute_result"
    }
   ],
   "source": [
    "numList"
   ]
  },
  {
   "cell_type": "code",
   "execution_count": 46,
   "id": "b397ef66",
   "metadata": {},
   "outputs": [],
   "source": [
    "del generalList"
   ]
  },
  {
   "cell_type": "code",
   "execution_count": 47,
   "id": "9250c1a1",
   "metadata": {},
   "outputs": [
    {
     "ename": "NameError",
     "evalue": "name 'generalList' is not defined",
     "output_type": "error",
     "traceback": [
      "\u001b[1;31m---------------------------------------------------------------------------\u001b[0m",
      "\u001b[1;31mNameError\u001b[0m                                 Traceback (most recent call last)",
      "Cell \u001b[1;32mIn[47], line 1\u001b[0m\n\u001b[1;32m----> 1\u001b[0m generalList\n",
      "\u001b[1;31mNameError\u001b[0m: name 'generalList' is not defined"
     ]
    }
   ],
   "source": [
    "generalList"
   ]
  },
  {
   "cell_type": "code",
   "execution_count": 48,
   "id": "2b3a4282",
   "metadata": {},
   "outputs": [],
   "source": [
    "del numList[-1]"
   ]
  },
  {
   "cell_type": "code",
   "execution_count": 49,
   "id": "d1d55b2e",
   "metadata": {},
   "outputs": [
    {
     "data": {
      "text/plain": [
       "[4, 6.5, 2, 7, 'String']"
      ]
     },
     "execution_count": 49,
     "metadata": {},
     "output_type": "execute_result"
    }
   ],
   "source": [
    "numList"
   ]
  },
  {
   "cell_type": "code",
   "execution_count": 50,
   "id": "80e7f63b",
   "metadata": {},
   "outputs": [
    {
     "data": {
      "text/plain": [
       "[4, 6.5, 2, 7, 'String']"
      ]
     },
     "execution_count": 50,
     "metadata": {},
     "output_type": "execute_result"
    }
   ],
   "source": [
    "numList"
   ]
  },
  {
   "cell_type": "code",
   "execution_count": 51,
   "id": "c4ddf33f",
   "metadata": {},
   "outputs": [],
   "source": [
    "value = numList.pop(0)"
   ]
  },
  {
   "cell_type": "code",
   "execution_count": 52,
   "id": "a994248c",
   "metadata": {},
   "outputs": [
    {
     "data": {
      "text/plain": [
       "[6.5, 2, 7, 'String']"
      ]
     },
     "execution_count": 52,
     "metadata": {},
     "output_type": "execute_result"
    }
   ],
   "source": [
    "numList"
   ]
  },
  {
   "cell_type": "code",
   "execution_count": 53,
   "id": "e547dc30",
   "metadata": {},
   "outputs": [
    {
     "data": {
      "text/plain": [
       "4"
      ]
     },
     "execution_count": 53,
     "metadata": {},
     "output_type": "execute_result"
    }
   ],
   "source": [
    "value"
   ]
  },
  {
   "cell_type": "code",
   "execution_count": 54,
   "id": "03c500e1",
   "metadata": {},
   "outputs": [
    {
     "data": {
      "text/plain": [
       "64"
      ]
     },
     "execution_count": 54,
     "metadata": {},
     "output_type": "execute_result"
    }
   ],
   "source": [
    "value ** 3"
   ]
  },
  {
   "cell_type": "code",
   "execution_count": 55,
   "id": "f34637d1",
   "metadata": {},
   "outputs": [],
   "source": [
    "value **= 3"
   ]
  },
  {
   "cell_type": "code",
   "execution_count": 56,
   "id": "68bc2aa8",
   "metadata": {},
   "outputs": [
    {
     "data": {
      "text/plain": [
       "64"
      ]
     },
     "execution_count": 56,
     "metadata": {},
     "output_type": "execute_result"
    }
   ],
   "source": [
    "value"
   ]
  },
  {
   "cell_type": "code",
   "execution_count": 63,
   "id": "787f5429",
   "metadata": {},
   "outputs": [],
   "source": [
    "numList.append(numList)"
   ]
  },
  {
   "cell_type": "code",
   "execution_count": 64,
   "id": "ff89f2ab",
   "metadata": {},
   "outputs": [
    {
     "data": {
      "text/plain": [
       "[6.5, 2, 7, 'String', [...], [...], [...], [...], [...]]"
      ]
     },
     "execution_count": 64,
     "metadata": {},
     "output_type": "execute_result"
    }
   ],
   "source": [
    "numList"
   ]
  },
  {
   "cell_type": "code",
   "execution_count": 65,
   "id": "7b648f21",
   "metadata": {},
   "outputs": [],
   "source": [
    "numList.extend(numList)"
   ]
  },
  {
   "cell_type": "code",
   "execution_count": 66,
   "id": "569efaa1",
   "metadata": {},
   "outputs": [
    {
     "data": {
      "text/plain": [
       "[6.5,\n",
       " 2,\n",
       " 7,\n",
       " 'String',\n",
       " [...],\n",
       " [...],\n",
       " [...],\n",
       " [...],\n",
       " [...],\n",
       " 6.5,\n",
       " 2,\n",
       " 7,\n",
       " 'String',\n",
       " [...],\n",
       " [...],\n",
       " [...],\n",
       " [...],\n",
       " [...]]"
      ]
     },
     "execution_count": 66,
     "metadata": {},
     "output_type": "execute_result"
    }
   ],
   "source": [
    "numList"
   ]
  },
  {
   "cell_type": "markdown",
   "id": "077cbcd0",
   "metadata": {},
   "source": [
    "## List Slicing"
   ]
  },
  {
   "cell_type": "code",
   "execution_count": 67,
   "id": "29789460",
   "metadata": {},
   "outputs": [
    {
     "data": {
      "text/plain": [
       "[6.5,\n",
       " 2,\n",
       " 7,\n",
       " 'String',\n",
       " [...],\n",
       " [...],\n",
       " [...],\n",
       " [...],\n",
       " [...],\n",
       " 6.5,\n",
       " 2,\n",
       " 7,\n",
       " 'String',\n",
       " [...],\n",
       " [...],\n",
       " [...],\n",
       " [...],\n",
       " [...]]"
      ]
     },
     "execution_count": 67,
     "metadata": {},
     "output_type": "execute_result"
    }
   ],
   "source": [
    "numList"
   ]
  },
  {
   "cell_type": "code",
   "execution_count": 68,
   "id": "568a7c24",
   "metadata": {},
   "outputs": [
    {
     "data": {
      "text/plain": [
       "[2,\n",
       " 7,\n",
       " 'String',\n",
       " [6.5,\n",
       "  2,\n",
       "  7,\n",
       "  'String',\n",
       "  [...],\n",
       "  [...],\n",
       "  [...],\n",
       "  [...],\n",
       "  [...],\n",
       "  6.5,\n",
       "  2,\n",
       "  7,\n",
       "  'String',\n",
       "  [...],\n",
       "  [...],\n",
       "  [...],\n",
       "  [...],\n",
       "  [...]],\n",
       " [6.5,\n",
       "  2,\n",
       "  7,\n",
       "  'String',\n",
       "  [...],\n",
       "  [...],\n",
       "  [...],\n",
       "  [...],\n",
       "  [...],\n",
       "  6.5,\n",
       "  2,\n",
       "  7,\n",
       "  'String',\n",
       "  [...],\n",
       "  [...],\n",
       "  [...],\n",
       "  [...],\n",
       "  [...]],\n",
       " [6.5,\n",
       "  2,\n",
       "  7,\n",
       "  'String',\n",
       "  [...],\n",
       "  [...],\n",
       "  [...],\n",
       "  [...],\n",
       "  [...],\n",
       "  6.5,\n",
       "  2,\n",
       "  7,\n",
       "  'String',\n",
       "  [...],\n",
       "  [...],\n",
       "  [...],\n",
       "  [...],\n",
       "  [...]]]"
      ]
     },
     "execution_count": 68,
     "metadata": {},
     "output_type": "execute_result"
    }
   ],
   "source": [
    "numList[1:7]"
   ]
  },
  {
   "cell_type": "code",
   "execution_count": 69,
   "id": "e879f6bc",
   "metadata": {},
   "outputs": [
    {
     "data": {
      "text/plain": [
       "[2,\n",
       " 7,\n",
       " 'String',\n",
       " [6.5,\n",
       "  2,\n",
       "  7,\n",
       "  'String',\n",
       "  [...],\n",
       "  [...],\n",
       "  [...],\n",
       "  [...],\n",
       "  [...],\n",
       "  6.5,\n",
       "  2,\n",
       "  7,\n",
       "  'String',\n",
       "  [...],\n",
       "  [...],\n",
       "  [...],\n",
       "  [...],\n",
       "  [...]],\n",
       " [6.5,\n",
       "  2,\n",
       "  7,\n",
       "  'String',\n",
       "  [...],\n",
       "  [...],\n",
       "  [...],\n",
       "  [...],\n",
       "  [...],\n",
       "  6.5,\n",
       "  2,\n",
       "  7,\n",
       "  'String',\n",
       "  [...],\n",
       "  [...],\n",
       "  [...],\n",
       "  [...],\n",
       "  [...]],\n",
       " [6.5,\n",
       "  2,\n",
       "  7,\n",
       "  'String',\n",
       "  [...],\n",
       "  [...],\n",
       "  [...],\n",
       "  [...],\n",
       "  [...],\n",
       "  6.5,\n",
       "  2,\n",
       "  7,\n",
       "  'String',\n",
       "  [...],\n",
       "  [...],\n",
       "  [...],\n",
       "  [...],\n",
       "  [...]],\n",
       " [6.5,\n",
       "  2,\n",
       "  7,\n",
       "  'String',\n",
       "  [...],\n",
       "  [...],\n",
       "  [...],\n",
       "  [...],\n",
       "  [...],\n",
       "  6.5,\n",
       "  2,\n",
       "  7,\n",
       "  'String',\n",
       "  [...],\n",
       "  [...],\n",
       "  [...],\n",
       "  [...],\n",
       "  [...]],\n",
       " [6.5,\n",
       "  2,\n",
       "  7,\n",
       "  'String',\n",
       "  [...],\n",
       "  [...],\n",
       "  [...],\n",
       "  [...],\n",
       "  [...],\n",
       "  6.5,\n",
       "  2,\n",
       "  7,\n",
       "  'String',\n",
       "  [...],\n",
       "  [...],\n",
       "  [...],\n",
       "  [...],\n",
       "  [...]],\n",
       " 6.5,\n",
       " 2,\n",
       " 7,\n",
       " 'String',\n",
       " [6.5,\n",
       "  2,\n",
       "  7,\n",
       "  'String',\n",
       "  [...],\n",
       "  [...],\n",
       "  [...],\n",
       "  [...],\n",
       "  [...],\n",
       "  6.5,\n",
       "  2,\n",
       "  7,\n",
       "  'String',\n",
       "  [...],\n",
       "  [...],\n",
       "  [...],\n",
       "  [...],\n",
       "  [...]],\n",
       " [6.5,\n",
       "  2,\n",
       "  7,\n",
       "  'String',\n",
       "  [...],\n",
       "  [...],\n",
       "  [...],\n",
       "  [...],\n",
       "  [...],\n",
       "  6.5,\n",
       "  2,\n",
       "  7,\n",
       "  'String',\n",
       "  [...],\n",
       "  [...],\n",
       "  [...],\n",
       "  [...],\n",
       "  [...]]]"
      ]
     },
     "execution_count": 69,
     "metadata": {},
     "output_type": "execute_result"
    }
   ],
   "source": [
    "numList[1:-3]"
   ]
  },
  {
   "cell_type": "code",
   "execution_count": 70,
   "id": "9318ff06",
   "metadata": {},
   "outputs": [
    {
     "data": {
      "text/plain": [
       "[6.5,\n",
       " 2,\n",
       " 7,\n",
       " 'String',\n",
       " [6.5,\n",
       "  2,\n",
       "  7,\n",
       "  'String',\n",
       "  [...],\n",
       "  [...],\n",
       "  [...],\n",
       "  [...],\n",
       "  [...],\n",
       "  6.5,\n",
       "  2,\n",
       "  7,\n",
       "  'String',\n",
       "  [...],\n",
       "  [...],\n",
       "  [...],\n",
       "  [...],\n",
       "  [...]],\n",
       " [6.5,\n",
       "  2,\n",
       "  7,\n",
       "  'String',\n",
       "  [...],\n",
       "  [...],\n",
       "  [...],\n",
       "  [...],\n",
       "  [...],\n",
       "  6.5,\n",
       "  2,\n",
       "  7,\n",
       "  'String',\n",
       "  [...],\n",
       "  [...],\n",
       "  [...],\n",
       "  [...],\n",
       "  [...]],\n",
       " [6.5,\n",
       "  2,\n",
       "  7,\n",
       "  'String',\n",
       "  [...],\n",
       "  [...],\n",
       "  [...],\n",
       "  [...],\n",
       "  [...],\n",
       "  6.5,\n",
       "  2,\n",
       "  7,\n",
       "  'String',\n",
       "  [...],\n",
       "  [...],\n",
       "  [...],\n",
       "  [...],\n",
       "  [...]],\n",
       " [6.5,\n",
       "  2,\n",
       "  7,\n",
       "  'String',\n",
       "  [...],\n",
       "  [...],\n",
       "  [...],\n",
       "  [...],\n",
       "  [...],\n",
       "  6.5,\n",
       "  2,\n",
       "  7,\n",
       "  'String',\n",
       "  [...],\n",
       "  [...],\n",
       "  [...],\n",
       "  [...],\n",
       "  [...]],\n",
       " [6.5,\n",
       "  2,\n",
       "  7,\n",
       "  'String',\n",
       "  [...],\n",
       "  [...],\n",
       "  [...],\n",
       "  [...],\n",
       "  [...],\n",
       "  6.5,\n",
       "  2,\n",
       "  7,\n",
       "  'String',\n",
       "  [...],\n",
       "  [...],\n",
       "  [...],\n",
       "  [...],\n",
       "  [...]],\n",
       " 6.5,\n",
       " 2,\n",
       " 7,\n",
       " 'String',\n",
       " [6.5,\n",
       "  2,\n",
       "  7,\n",
       "  'String',\n",
       "  [...],\n",
       "  [...],\n",
       "  [...],\n",
       "  [...],\n",
       "  [...],\n",
       "  6.5,\n",
       "  2,\n",
       "  7,\n",
       "  'String',\n",
       "  [...],\n",
       "  [...],\n",
       "  [...],\n",
       "  [...],\n",
       "  [...]],\n",
       " [6.5,\n",
       "  2,\n",
       "  7,\n",
       "  'String',\n",
       "  [...],\n",
       "  [...],\n",
       "  [...],\n",
       "  [...],\n",
       "  [...],\n",
       "  6.5,\n",
       "  2,\n",
       "  7,\n",
       "  'String',\n",
       "  [...],\n",
       "  [...],\n",
       "  [...],\n",
       "  [...],\n",
       "  [...]]]"
      ]
     },
     "execution_count": 70,
     "metadata": {},
     "output_type": "execute_result"
    }
   ],
   "source": [
    "numList[:-3]"
   ]
  },
  {
   "cell_type": "code",
   "execution_count": 71,
   "id": "7de48db2",
   "metadata": {},
   "outputs": [
    {
     "data": {
      "text/plain": [
       "[6.5,\n",
       " 2,\n",
       " 7,\n",
       " 'String',\n",
       " [6.5,\n",
       "  2,\n",
       "  7,\n",
       "  'String',\n",
       "  [...],\n",
       "  [...],\n",
       "  [...],\n",
       "  [...],\n",
       "  [...],\n",
       "  6.5,\n",
       "  2,\n",
       "  7,\n",
       "  'String',\n",
       "  [...],\n",
       "  [...],\n",
       "  [...],\n",
       "  [...],\n",
       "  [...]],\n",
       " [6.5,\n",
       "  2,\n",
       "  7,\n",
       "  'String',\n",
       "  [...],\n",
       "  [...],\n",
       "  [...],\n",
       "  [...],\n",
       "  [...],\n",
       "  6.5,\n",
       "  2,\n",
       "  7,\n",
       "  'String',\n",
       "  [...],\n",
       "  [...],\n",
       "  [...],\n",
       "  [...],\n",
       "  [...]],\n",
       " [6.5,\n",
       "  2,\n",
       "  7,\n",
       "  'String',\n",
       "  [...],\n",
       "  [...],\n",
       "  [...],\n",
       "  [...],\n",
       "  [...],\n",
       "  6.5,\n",
       "  2,\n",
       "  7,\n",
       "  'String',\n",
       "  [...],\n",
       "  [...],\n",
       "  [...],\n",
       "  [...],\n",
       "  [...]],\n",
       " [6.5,\n",
       "  2,\n",
       "  7,\n",
       "  'String',\n",
       "  [...],\n",
       "  [...],\n",
       "  [...],\n",
       "  [...],\n",
       "  [...],\n",
       "  6.5,\n",
       "  2,\n",
       "  7,\n",
       "  'String',\n",
       "  [...],\n",
       "  [...],\n",
       "  [...],\n",
       "  [...],\n",
       "  [...]],\n",
       " [6.5,\n",
       "  2,\n",
       "  7,\n",
       "  'String',\n",
       "  [...],\n",
       "  [...],\n",
       "  [...],\n",
       "  [...],\n",
       "  [...],\n",
       "  6.5,\n",
       "  2,\n",
       "  7,\n",
       "  'String',\n",
       "  [...],\n",
       "  [...],\n",
       "  [...],\n",
       "  [...],\n",
       "  [...]],\n",
       " 6.5,\n",
       " 2,\n",
       " 7,\n",
       " 'String',\n",
       " [6.5,\n",
       "  2,\n",
       "  7,\n",
       "  'String',\n",
       "  [...],\n",
       "  [...],\n",
       "  [...],\n",
       "  [...],\n",
       "  [...],\n",
       "  6.5,\n",
       "  2,\n",
       "  7,\n",
       "  'String',\n",
       "  [...],\n",
       "  [...],\n",
       "  [...],\n",
       "  [...],\n",
       "  [...]],\n",
       " [6.5,\n",
       "  2,\n",
       "  7,\n",
       "  'String',\n",
       "  [...],\n",
       "  [...],\n",
       "  [...],\n",
       "  [...],\n",
       "  [...],\n",
       "  6.5,\n",
       "  2,\n",
       "  7,\n",
       "  'String',\n",
       "  [...],\n",
       "  [...],\n",
       "  [...],\n",
       "  [...],\n",
       "  [...]],\n",
       " [6.5,\n",
       "  2,\n",
       "  7,\n",
       "  'String',\n",
       "  [...],\n",
       "  [...],\n",
       "  [...],\n",
       "  [...],\n",
       "  [...],\n",
       "  6.5,\n",
       "  2,\n",
       "  7,\n",
       "  'String',\n",
       "  [...],\n",
       "  [...],\n",
       "  [...],\n",
       "  [...],\n",
       "  [...]],\n",
       " [6.5,\n",
       "  2,\n",
       "  7,\n",
       "  'String',\n",
       "  [...],\n",
       "  [...],\n",
       "  [...],\n",
       "  [...],\n",
       "  [...],\n",
       "  6.5,\n",
       "  2,\n",
       "  7,\n",
       "  'String',\n",
       "  [...],\n",
       "  [...],\n",
       "  [...],\n",
       "  [...],\n",
       "  [...]]]"
      ]
     },
     "execution_count": 71,
     "metadata": {},
     "output_type": "execute_result"
    }
   ],
   "source": [
    "numList[:-1]"
   ]
  },
  {
   "cell_type": "code",
   "execution_count": 72,
   "id": "23d5f7f9",
   "metadata": {},
   "outputs": [
    {
     "data": {
      "text/plain": [
       "[2,\n",
       " 7,\n",
       " 'String',\n",
       " [6.5,\n",
       "  2,\n",
       "  7,\n",
       "  'String',\n",
       "  [...],\n",
       "  [...],\n",
       "  [...],\n",
       "  [...],\n",
       "  [...],\n",
       "  6.5,\n",
       "  2,\n",
       "  7,\n",
       "  'String',\n",
       "  [...],\n",
       "  [...],\n",
       "  [...],\n",
       "  [...],\n",
       "  [...]],\n",
       " [6.5,\n",
       "  2,\n",
       "  7,\n",
       "  'String',\n",
       "  [...],\n",
       "  [...],\n",
       "  [...],\n",
       "  [...],\n",
       "  [...],\n",
       "  6.5,\n",
       "  2,\n",
       "  7,\n",
       "  'String',\n",
       "  [...],\n",
       "  [...],\n",
       "  [...],\n",
       "  [...],\n",
       "  [...]],\n",
       " [6.5,\n",
       "  2,\n",
       "  7,\n",
       "  'String',\n",
       "  [...],\n",
       "  [...],\n",
       "  [...],\n",
       "  [...],\n",
       "  [...],\n",
       "  6.5,\n",
       "  2,\n",
       "  7,\n",
       "  'String',\n",
       "  [...],\n",
       "  [...],\n",
       "  [...],\n",
       "  [...],\n",
       "  [...]],\n",
       " [6.5,\n",
       "  2,\n",
       "  7,\n",
       "  'String',\n",
       "  [...],\n",
       "  [...],\n",
       "  [...],\n",
       "  [...],\n",
       "  [...],\n",
       "  6.5,\n",
       "  2,\n",
       "  7,\n",
       "  'String',\n",
       "  [...],\n",
       "  [...],\n",
       "  [...],\n",
       "  [...],\n",
       "  [...]],\n",
       " [6.5,\n",
       "  2,\n",
       "  7,\n",
       "  'String',\n",
       "  [...],\n",
       "  [...],\n",
       "  [...],\n",
       "  [...],\n",
       "  [...],\n",
       "  6.5,\n",
       "  2,\n",
       "  7,\n",
       "  'String',\n",
       "  [...],\n",
       "  [...],\n",
       "  [...],\n",
       "  [...],\n",
       "  [...]],\n",
       " 6.5,\n",
       " 2,\n",
       " 7,\n",
       " 'String',\n",
       " [6.5,\n",
       "  2,\n",
       "  7,\n",
       "  'String',\n",
       "  [...],\n",
       "  [...],\n",
       "  [...],\n",
       "  [...],\n",
       "  [...],\n",
       "  6.5,\n",
       "  2,\n",
       "  7,\n",
       "  'String',\n",
       "  [...],\n",
       "  [...],\n",
       "  [...],\n",
       "  [...],\n",
       "  [...]],\n",
       " [6.5,\n",
       "  2,\n",
       "  7,\n",
       "  'String',\n",
       "  [...],\n",
       "  [...],\n",
       "  [...],\n",
       "  [...],\n",
       "  [...],\n",
       "  6.5,\n",
       "  2,\n",
       "  7,\n",
       "  'String',\n",
       "  [...],\n",
       "  [...],\n",
       "  [...],\n",
       "  [...],\n",
       "  [...]],\n",
       " [6.5,\n",
       "  2,\n",
       "  7,\n",
       "  'String',\n",
       "  [...],\n",
       "  [...],\n",
       "  [...],\n",
       "  [...],\n",
       "  [...],\n",
       "  6.5,\n",
       "  2,\n",
       "  7,\n",
       "  'String',\n",
       "  [...],\n",
       "  [...],\n",
       "  [...],\n",
       "  [...],\n",
       "  [...]],\n",
       " [6.5,\n",
       "  2,\n",
       "  7,\n",
       "  'String',\n",
       "  [...],\n",
       "  [...],\n",
       "  [...],\n",
       "  [...],\n",
       "  [...],\n",
       "  6.5,\n",
       "  2,\n",
       "  7,\n",
       "  'String',\n",
       "  [...],\n",
       "  [...],\n",
       "  [...],\n",
       "  [...],\n",
       "  [...]],\n",
       " [6.5,\n",
       "  2,\n",
       "  7,\n",
       "  'String',\n",
       "  [...],\n",
       "  [...],\n",
       "  [...],\n",
       "  [...],\n",
       "  [...],\n",
       "  6.5,\n",
       "  2,\n",
       "  7,\n",
       "  'String',\n",
       "  [...],\n",
       "  [...],\n",
       "  [...],\n",
       "  [...],\n",
       "  [...]]]"
      ]
     },
     "execution_count": 72,
     "metadata": {},
     "output_type": "execute_result"
    }
   ],
   "source": [
    "numList[1:]"
   ]
  },
  {
   "cell_type": "markdown",
   "id": "4dbcc77d",
   "metadata": {},
   "source": [
    "## Part 2"
   ]
  },
  {
   "cell_type": "markdown",
   "id": "12b9bd16",
   "metadata": {},
   "source": [
    "## Dictionaries\n",
    "This consists of key-value pairs {key;value}"
   ]
  },
  {
   "cell_type": "code",
   "execution_count": 74,
   "id": "33051eee",
   "metadata": {},
   "outputs": [],
   "source": [
    "generalDict = {\"Hello\": \"World\", 2: True, False: 33.5}"
   ]
  },
  {
   "cell_type": "code",
   "execution_count": 75,
   "id": "4157d15b",
   "metadata": {},
   "outputs": [
    {
     "data": {
      "text/plain": [
       "'World'"
      ]
     },
     "execution_count": 75,
     "metadata": {},
     "output_type": "execute_result"
    }
   ],
   "source": [
    "generalDict[\"Hello\"]"
   ]
  },
  {
   "cell_type": "code",
   "execution_count": 77,
   "id": "c37f4702",
   "metadata": {},
   "outputs": [
    {
     "ename": "KeyError",
     "evalue": "1",
     "output_type": "error",
     "traceback": [
      "\u001b[1;31m---------------------------------------------------------------------------\u001b[0m",
      "\u001b[1;31mKeyError\u001b[0m                                  Traceback (most recent call last)",
      "Cell \u001b[1;32mIn[77], line 1\u001b[0m\n\u001b[1;32m----> 1\u001b[0m generalDict[\u001b[38;5;241m1\u001b[39m]\n",
      "\u001b[1;31mKeyError\u001b[0m: 1"
     ]
    }
   ],
   "source": [
    "generalDict[1]"
   ]
  },
  {
   "cell_type": "code",
   "execution_count": 78,
   "id": "b77cd937",
   "metadata": {},
   "outputs": [
    {
     "data": {
      "text/plain": [
       "True"
      ]
     },
     "execution_count": 78,
     "metadata": {},
     "output_type": "execute_result"
    }
   ],
   "source": [
    "generalDict[2]"
   ]
  },
  {
   "cell_type": "code",
   "execution_count": 79,
   "id": "cbf64e21",
   "metadata": {},
   "outputs": [
    {
     "data": {
      "text/plain": [
       "33.5"
      ]
     },
     "execution_count": 79,
     "metadata": {},
     "output_type": "execute_result"
    }
   ],
   "source": [
    "generalDict[False]"
   ]
  },
  {
   "cell_type": "code",
   "execution_count": 80,
   "id": "e7b9f6d8",
   "metadata": {},
   "outputs": [],
   "source": [
    "generalDict[\"Hello\"] = \"Moon\""
   ]
  },
  {
   "cell_type": "code",
   "execution_count": 81,
   "id": "0bfb0808",
   "metadata": {},
   "outputs": [
    {
     "data": {
      "text/plain": [
       "'Moon'"
      ]
     },
     "execution_count": 81,
     "metadata": {},
     "output_type": "execute_result"
    }
   ],
   "source": [
    "generalDict[\"Hello\"]"
   ]
  },
  {
   "cell_type": "code",
   "execution_count": 82,
   "id": "f1c1549e",
   "metadata": {},
   "outputs": [
    {
     "data": {
      "text/plain": [
       "dict_keys(['Hello', 2, False])"
      ]
     },
     "execution_count": 82,
     "metadata": {},
     "output_type": "execute_result"
    }
   ],
   "source": [
    "generalDict.keys()"
   ]
  },
  {
   "cell_type": "code",
   "execution_count": 83,
   "id": "7ab4db42",
   "metadata": {},
   "outputs": [
    {
     "data": {
      "text/plain": [
       "dict_keys(['Hello', 2, False])"
      ]
     },
     "execution_count": 83,
     "metadata": {},
     "output_type": "execute_result"
    }
   ],
   "source": [
    "generalDict.keys()"
   ]
  },
  {
   "cell_type": "code",
   "execution_count": 84,
   "id": "9f213fc3",
   "metadata": {},
   "outputs": [
    {
     "data": {
      "text/plain": [
       "dict_values(['Moon', True, 33.5])"
      ]
     },
     "execution_count": 84,
     "metadata": {},
     "output_type": "execute_result"
    }
   ],
   "source": [
    "generalDict.values()"
   ]
  },
  {
   "cell_type": "code",
   "execution_count": 85,
   "id": "cc44e7bf",
   "metadata": {},
   "outputs": [],
   "source": [
    "generalDict[\"Goodbye\"] = 44"
   ]
  },
  {
   "cell_type": "code",
   "execution_count": 86,
   "id": "06f74862",
   "metadata": {},
   "outputs": [
    {
     "data": {
      "text/plain": [
       "44"
      ]
     },
     "execution_count": 86,
     "metadata": {},
     "output_type": "execute_result"
    }
   ],
   "source": [
    "generalDict[\"Goodbye\"]"
   ]
  },
  {
   "cell_type": "markdown",
   "id": "5e168dba",
   "metadata": {},
   "source": [
    "## Tuples\n",
    "Immutable - can\"t modify the values after creation"
   ]
  },
  {
   "cell_type": "code",
   "execution_count": 93,
   "id": "13545fdf",
   "metadata": {},
   "outputs": [],
   "source": [
    "generalTuple = (2, 3.5, \"Hello\", True)"
   ]
  },
  {
   "cell_type": "code",
   "execution_count": 94,
   "id": "8589412b",
   "metadata": {},
   "outputs": [
    {
     "data": {
      "text/plain": [
       "2"
      ]
     },
     "execution_count": 94,
     "metadata": {},
     "output_type": "execute_result"
    }
   ],
   "source": [
    "generalTuple[0]"
   ]
  },
  {
   "cell_type": "code",
   "execution_count": 95,
   "id": "479bb8f0",
   "metadata": {},
   "outputs": [
    {
     "data": {
      "text/plain": [
       "True"
      ]
     },
     "execution_count": 95,
     "metadata": {},
     "output_type": "execute_result"
    }
   ],
   "source": [
    "generalTuples[-1]"
   ]
  },
  {
   "cell_type": "code",
   "execution_count": 151,
   "id": "3b213117",
   "metadata": {},
   "outputs": [
    {
     "ename": "AttributeError",
     "evalue": "'tuple' object has no attribute 'append'",
     "output_type": "error",
     "traceback": [
      "\u001b[1;31m---------------------------------------------------------------------------\u001b[0m",
      "\u001b[1;31mAttributeError\u001b[0m                            Traceback (most recent call last)",
      "Cell \u001b[1;32mIn[151], line 1\u001b[0m\n\u001b[1;32m----> 1\u001b[0m generalTuple\u001b[38;5;241m.\u001b[39mappend(\u001b[38;5;241m3\u001b[39m)\n",
      "\u001b[1;31mAttributeError\u001b[0m: 'tuple' object has no attribute 'append'"
     ]
    }
   ],
   "source": [
    "generalTuple.append(3)"
   ]
  },
  {
   "cell_type": "code",
   "execution_count": 97,
   "id": "11b46839",
   "metadata": {},
   "outputs": [
    {
     "ename": "TypeError",
     "evalue": "'tuple' object doesn't support item deletion",
     "output_type": "error",
     "traceback": [
      "\u001b[1;31m---------------------------------------------------------------------------\u001b[0m",
      "\u001b[1;31mTypeError\u001b[0m                                 Traceback (most recent call last)",
      "Cell \u001b[1;32mIn[97], line 1\u001b[0m\n\u001b[1;32m----> 1\u001b[0m \u001b[38;5;28;01mdel\u001b[39;00m generalTuple[\u001b[38;5;241m2\u001b[39m]\n",
      "\u001b[1;31mTypeError\u001b[0m: 'tuple' object doesn't support item deletion"
     ]
    }
   ],
   "source": [
    "del generalTuple[2]"
   ]
  },
  {
   "cell_type": "code",
   "execution_count": 98,
   "id": "dddd4b65",
   "metadata": {},
   "outputs": [
    {
     "data": {
      "text/plain": [
       "[2, 3.5, 'Hello', True]"
      ]
     },
     "execution_count": 98,
     "metadata": {},
     "output_type": "execute_result"
    }
   ],
   "source": [
    "list(generalTuple)"
   ]
  },
  {
   "cell_type": "code",
   "execution_count": 99,
   "id": "fc1e4f15",
   "metadata": {},
   "outputs": [
    {
     "data": {
      "text/plain": [
       "(6.5,\n",
       " 2,\n",
       " 7,\n",
       " 'String',\n",
       " [6.5,\n",
       "  2,\n",
       "  7,\n",
       "  'String',\n",
       "  [...],\n",
       "  [...],\n",
       "  [...],\n",
       "  [...],\n",
       "  [...],\n",
       "  6.5,\n",
       "  2,\n",
       "  7,\n",
       "  'String',\n",
       "  [...],\n",
       "  [...],\n",
       "  [...],\n",
       "  [...],\n",
       "  [...]],\n",
       " [6.5,\n",
       "  2,\n",
       "  7,\n",
       "  'String',\n",
       "  [...],\n",
       "  [...],\n",
       "  [...],\n",
       "  [...],\n",
       "  [...],\n",
       "  6.5,\n",
       "  2,\n",
       "  7,\n",
       "  'String',\n",
       "  [...],\n",
       "  [...],\n",
       "  [...],\n",
       "  [...],\n",
       "  [...]],\n",
       " [6.5,\n",
       "  2,\n",
       "  7,\n",
       "  'String',\n",
       "  [...],\n",
       "  [...],\n",
       "  [...],\n",
       "  [...],\n",
       "  [...],\n",
       "  6.5,\n",
       "  2,\n",
       "  7,\n",
       "  'String',\n",
       "  [...],\n",
       "  [...],\n",
       "  [...],\n",
       "  [...],\n",
       "  [...]],\n",
       " [6.5,\n",
       "  2,\n",
       "  7,\n",
       "  'String',\n",
       "  [...],\n",
       "  [...],\n",
       "  [...],\n",
       "  [...],\n",
       "  [...],\n",
       "  6.5,\n",
       "  2,\n",
       "  7,\n",
       "  'String',\n",
       "  [...],\n",
       "  [...],\n",
       "  [...],\n",
       "  [...],\n",
       "  [...]],\n",
       " [6.5,\n",
       "  2,\n",
       "  7,\n",
       "  'String',\n",
       "  [...],\n",
       "  [...],\n",
       "  [...],\n",
       "  [...],\n",
       "  [...],\n",
       "  6.5,\n",
       "  2,\n",
       "  7,\n",
       "  'String',\n",
       "  [...],\n",
       "  [...],\n",
       "  [...],\n",
       "  [...],\n",
       "  [...]],\n",
       " 6.5,\n",
       " 2,\n",
       " 7,\n",
       " 'String',\n",
       " [6.5,\n",
       "  2,\n",
       "  7,\n",
       "  'String',\n",
       "  [...],\n",
       "  [...],\n",
       "  [...],\n",
       "  [...],\n",
       "  [...],\n",
       "  6.5,\n",
       "  2,\n",
       "  7,\n",
       "  'String',\n",
       "  [...],\n",
       "  [...],\n",
       "  [...],\n",
       "  [...],\n",
       "  [...]],\n",
       " [6.5,\n",
       "  2,\n",
       "  7,\n",
       "  'String',\n",
       "  [...],\n",
       "  [...],\n",
       "  [...],\n",
       "  [...],\n",
       "  [...],\n",
       "  6.5,\n",
       "  2,\n",
       "  7,\n",
       "  'String',\n",
       "  [...],\n",
       "  [...],\n",
       "  [...],\n",
       "  [...],\n",
       "  [...]],\n",
       " [6.5,\n",
       "  2,\n",
       "  7,\n",
       "  'String',\n",
       "  [...],\n",
       "  [...],\n",
       "  [...],\n",
       "  [...],\n",
       "  [...],\n",
       "  6.5,\n",
       "  2,\n",
       "  7,\n",
       "  'String',\n",
       "  [...],\n",
       "  [...],\n",
       "  [...],\n",
       "  [...],\n",
       "  [...]],\n",
       " [6.5,\n",
       "  2,\n",
       "  7,\n",
       "  'String',\n",
       "  [...],\n",
       "  [...],\n",
       "  [...],\n",
       "  [...],\n",
       "  [...],\n",
       "  6.5,\n",
       "  2,\n",
       "  7,\n",
       "  'String',\n",
       "  [...],\n",
       "  [...],\n",
       "  [...],\n",
       "  [...],\n",
       "  [...]],\n",
       " [6.5,\n",
       "  2,\n",
       "  7,\n",
       "  'String',\n",
       "  [...],\n",
       "  [...],\n",
       "  [...],\n",
       "  [...],\n",
       "  [...],\n",
       "  6.5,\n",
       "  2,\n",
       "  7,\n",
       "  'String',\n",
       "  [...],\n",
       "  [...],\n",
       "  [...],\n",
       "  [...],\n",
       "  [...]])"
      ]
     },
     "execution_count": 99,
     "metadata": {},
     "output_type": "execute_result"
    }
   ],
   "source": [
    "tuple(numList)"
   ]
  },
  {
   "cell_type": "code",
   "execution_count": 100,
   "id": "131ba77f",
   "metadata": {},
   "outputs": [
    {
     "data": {
      "text/plain": [
       "(2, 3.5, 'Hello', True)"
      ]
     },
     "execution_count": 100,
     "metadata": {},
     "output_type": "execute_result"
    }
   ],
   "source": [
    "generalTuple"
   ]
  },
  {
   "cell_type": "code",
   "execution_count": 101,
   "id": "bd75d095",
   "metadata": {},
   "outputs": [
    {
     "name": "stdout",
     "output_type": "stream",
     "text": [
      "<class 'tuple'>\n",
      "<class 'list'>\n",
      "<class 'tuple'>\n"
     ]
    }
   ],
   "source": [
    "print(type(generalTuple))\n",
    "print(type(list(generalTuple)))\n",
    "print(type(generalTuple))"
   ]
  },
  {
   "cell_type": "markdown",
   "id": "e0d9b6b2",
   "metadata": {},
   "source": [
    "## Pandas"
   ]
  },
  {
   "cell_type": "code",
   "execution_count": 102,
   "id": "f3575169",
   "metadata": {},
   "outputs": [],
   "source": [
    "import pandas as pd"
   ]
  },
  {
   "cell_type": "code",
   "execution_count": 103,
   "id": "557ebd32",
   "metadata": {},
   "outputs": [],
   "source": [
    "#pd.read_csv(\"\") # comma separated values"
   ]
  },
  {
   "cell_type": "code",
   "execution_count": 106,
   "id": "ad121142",
   "metadata": {},
   "outputs": [],
   "source": [
    "df = pd.DataFrame({\n",
    "    \"Names\" : [\"Sam\", \"David\", \"Muhammed\", \"James\", \"Marina\"],\n",
    "    \"Class\" : [\"Programming\", \"Data Vis\", \"Machine Learning\", \"Statistics\", \"Maths\"]\n",
    "})"
   ]
  },
  {
   "cell_type": "code",
   "execution_count": 110,
   "id": "be09eb7f",
   "metadata": {},
   "outputs": [
    {
     "data": {
      "text/html": [
       "<div>\n",
       "<style scoped>\n",
       "    .dataframe tbody tr th:only-of-type {\n",
       "        vertical-align: middle;\n",
       "    }\n",
       "\n",
       "    .dataframe tbody tr th {\n",
       "        vertical-align: top;\n",
       "    }\n",
       "\n",
       "    .dataframe thead th {\n",
       "        text-align: right;\n",
       "    }\n",
       "</style>\n",
       "<table border=\"1\" class=\"dataframe\">\n",
       "  <thead>\n",
       "    <tr style=\"text-align: right;\">\n",
       "      <th></th>\n",
       "      <th>Names</th>\n",
       "      <th>Class</th>\n",
       "    </tr>\n",
       "  </thead>\n",
       "  <tbody>\n",
       "    <tr>\n",
       "      <th>0</th>\n",
       "      <td>Sam</td>\n",
       "      <td>Programming</td>\n",
       "    </tr>\n",
       "    <tr>\n",
       "      <th>1</th>\n",
       "      <td>David</td>\n",
       "      <td>Data Vis</td>\n",
       "    </tr>\n",
       "    <tr>\n",
       "      <th>2</th>\n",
       "      <td>Muhammed</td>\n",
       "      <td>Machine Learning</td>\n",
       "    </tr>\n",
       "    <tr>\n",
       "      <th>3</th>\n",
       "      <td>James</td>\n",
       "      <td>Statistics</td>\n",
       "    </tr>\n",
       "    <tr>\n",
       "      <th>4</th>\n",
       "      <td>Marina</td>\n",
       "      <td>Maths</td>\n",
       "    </tr>\n",
       "  </tbody>\n",
       "</table>\n",
       "</div>"
      ],
      "text/plain": [
       "      Names             Class\n",
       "0       Sam       Programming\n",
       "1     David          Data Vis\n",
       "2  Muhammed  Machine Learning\n",
       "3     James        Statistics\n",
       "4    Marina             Maths"
      ]
     },
     "execution_count": 110,
     "metadata": {},
     "output_type": "execute_result"
    }
   ],
   "source": [
    "df"
   ]
  },
  {
   "cell_type": "code",
   "execution_count": 111,
   "id": "22a4a37f",
   "metadata": {},
   "outputs": [
    {
     "data": {
      "text/plain": [
       "pandas.core.frame.DataFrame"
      ]
     },
     "execution_count": 111,
     "metadata": {},
     "output_type": "execute_result"
    }
   ],
   "source": [
    "type(df)"
   ]
  },
  {
   "cell_type": "code",
   "execution_count": 112,
   "id": "a352a3ce",
   "metadata": {},
   "outputs": [
    {
     "data": {
      "text/html": [
       "<div>\n",
       "<style scoped>\n",
       "    .dataframe tbody tr th:only-of-type {\n",
       "        vertical-align: middle;\n",
       "    }\n",
       "\n",
       "    .dataframe tbody tr th {\n",
       "        vertical-align: top;\n",
       "    }\n",
       "\n",
       "    .dataframe thead th {\n",
       "        text-align: right;\n",
       "    }\n",
       "</style>\n",
       "<table border=\"1\" class=\"dataframe\">\n",
       "  <thead>\n",
       "    <tr style=\"text-align: right;\">\n",
       "      <th></th>\n",
       "      <th>Names</th>\n",
       "      <th>Class</th>\n",
       "    </tr>\n",
       "  </thead>\n",
       "  <tbody>\n",
       "    <tr>\n",
       "      <th>0</th>\n",
       "      <td>Sam</td>\n",
       "      <td>Programming</td>\n",
       "    </tr>\n",
       "    <tr>\n",
       "      <th>1</th>\n",
       "      <td>David</td>\n",
       "      <td>Data Vis</td>\n",
       "    </tr>\n",
       "    <tr>\n",
       "      <th>2</th>\n",
       "      <td>Muhammed</td>\n",
       "      <td>Machine Learning</td>\n",
       "    </tr>\n",
       "    <tr>\n",
       "      <th>3</th>\n",
       "      <td>James</td>\n",
       "      <td>Statistics</td>\n",
       "    </tr>\n",
       "    <tr>\n",
       "      <th>4</th>\n",
       "      <td>Marina</td>\n",
       "      <td>Maths</td>\n",
       "    </tr>\n",
       "  </tbody>\n",
       "</table>\n",
       "</div>"
      ],
      "text/plain": [
       "      Names             Class\n",
       "0       Sam       Programming\n",
       "1     David          Data Vis\n",
       "2  Muhammed  Machine Learning\n",
       "3     James        Statistics\n",
       "4    Marina             Maths"
      ]
     },
     "execution_count": 112,
     "metadata": {},
     "output_type": "execute_result"
    }
   ],
   "source": [
    "df"
   ]
  },
  {
   "cell_type": "code",
   "execution_count": 113,
   "id": "b758081a",
   "metadata": {},
   "outputs": [
    {
     "data": {
      "text/html": [
       "<div>\n",
       "<style scoped>\n",
       "    .dataframe tbody tr th:only-of-type {\n",
       "        vertical-align: middle;\n",
       "    }\n",
       "\n",
       "    .dataframe tbody tr th {\n",
       "        vertical-align: top;\n",
       "    }\n",
       "\n",
       "    .dataframe thead th {\n",
       "        text-align: right;\n",
       "    }\n",
       "</style>\n",
       "<table border=\"1\" class=\"dataframe\">\n",
       "  <thead>\n",
       "    <tr style=\"text-align: right;\">\n",
       "      <th></th>\n",
       "      <th>Names</th>\n",
       "      <th>Class</th>\n",
       "    </tr>\n",
       "  </thead>\n",
       "  <tbody>\n",
       "    <tr>\n",
       "      <th>0</th>\n",
       "      <td>Sam</td>\n",
       "      <td>Programming</td>\n",
       "    </tr>\n",
       "    <tr>\n",
       "      <th>1</th>\n",
       "      <td>David</td>\n",
       "      <td>Data Vis</td>\n",
       "    </tr>\n",
       "    <tr>\n",
       "      <th>2</th>\n",
       "      <td>Muhammed</td>\n",
       "      <td>Machine Learning</td>\n",
       "    </tr>\n",
       "    <tr>\n",
       "      <th>3</th>\n",
       "      <td>James</td>\n",
       "      <td>Statistics</td>\n",
       "    </tr>\n",
       "    <tr>\n",
       "      <th>4</th>\n",
       "      <td>Marina</td>\n",
       "      <td>Maths</td>\n",
       "    </tr>\n",
       "  </tbody>\n",
       "</table>\n",
       "</div>"
      ],
      "text/plain": [
       "      Names             Class\n",
       "0       Sam       Programming\n",
       "1     David          Data Vis\n",
       "2  Muhammed  Machine Learning\n",
       "3     James        Statistics\n",
       "4    Marina             Maths"
      ]
     },
     "execution_count": 113,
     "metadata": {},
     "output_type": "execute_result"
    }
   ],
   "source": [
    "df.head()"
   ]
  },
  {
   "cell_type": "code",
   "execution_count": 114,
   "id": "51493ef0",
   "metadata": {},
   "outputs": [
    {
     "data": {
      "text/html": [
       "<div>\n",
       "<style scoped>\n",
       "    .dataframe tbody tr th:only-of-type {\n",
       "        vertical-align: middle;\n",
       "    }\n",
       "\n",
       "    .dataframe tbody tr th {\n",
       "        vertical-align: top;\n",
       "    }\n",
       "\n",
       "    .dataframe thead th {\n",
       "        text-align: right;\n",
       "    }\n",
       "</style>\n",
       "<table border=\"1\" class=\"dataframe\">\n",
       "  <thead>\n",
       "    <tr style=\"text-align: right;\">\n",
       "      <th></th>\n",
       "      <th>Names</th>\n",
       "      <th>Class</th>\n",
       "    </tr>\n",
       "  </thead>\n",
       "  <tbody>\n",
       "    <tr>\n",
       "      <th>0</th>\n",
       "      <td>Sam</td>\n",
       "      <td>Programming</td>\n",
       "    </tr>\n",
       "    <tr>\n",
       "      <th>1</th>\n",
       "      <td>David</td>\n",
       "      <td>Data Vis</td>\n",
       "    </tr>\n",
       "    <tr>\n",
       "      <th>2</th>\n",
       "      <td>Muhammed</td>\n",
       "      <td>Machine Learning</td>\n",
       "    </tr>\n",
       "  </tbody>\n",
       "</table>\n",
       "</div>"
      ],
      "text/plain": [
       "      Names             Class\n",
       "0       Sam       Programming\n",
       "1     David          Data Vis\n",
       "2  Muhammed  Machine Learning"
      ]
     },
     "execution_count": 114,
     "metadata": {},
     "output_type": "execute_result"
    }
   ],
   "source": [
    "df.head(3)"
   ]
  },
  {
   "cell_type": "code",
   "execution_count": 115,
   "id": "cb91355b",
   "metadata": {},
   "outputs": [
    {
     "data": {
      "text/html": [
       "<div>\n",
       "<style scoped>\n",
       "    .dataframe tbody tr th:only-of-type {\n",
       "        vertical-align: middle;\n",
       "    }\n",
       "\n",
       "    .dataframe tbody tr th {\n",
       "        vertical-align: top;\n",
       "    }\n",
       "\n",
       "    .dataframe thead th {\n",
       "        text-align: right;\n",
       "    }\n",
       "</style>\n",
       "<table border=\"1\" class=\"dataframe\">\n",
       "  <thead>\n",
       "    <tr style=\"text-align: right;\">\n",
       "      <th></th>\n",
       "      <th>Names</th>\n",
       "      <th>Class</th>\n",
       "    </tr>\n",
       "  </thead>\n",
       "  <tbody>\n",
       "    <tr>\n",
       "      <th>1</th>\n",
       "      <td>David</td>\n",
       "      <td>Data Vis</td>\n",
       "    </tr>\n",
       "    <tr>\n",
       "      <th>2</th>\n",
       "      <td>Muhammed</td>\n",
       "      <td>Machine Learning</td>\n",
       "    </tr>\n",
       "    <tr>\n",
       "      <th>3</th>\n",
       "      <td>James</td>\n",
       "      <td>Statistics</td>\n",
       "    </tr>\n",
       "    <tr>\n",
       "      <th>4</th>\n",
       "      <td>Marina</td>\n",
       "      <td>Maths</td>\n",
       "    </tr>\n",
       "  </tbody>\n",
       "</table>\n",
       "</div>"
      ],
      "text/plain": [
       "      Names             Class\n",
       "1     David          Data Vis\n",
       "2  Muhammed  Machine Learning\n",
       "3     James        Statistics\n",
       "4    Marina             Maths"
      ]
     },
     "execution_count": 115,
     "metadata": {},
     "output_type": "execute_result"
    }
   ],
   "source": [
    "df.tail(4)"
   ]
  },
  {
   "cell_type": "code",
   "execution_count": 116,
   "id": "381fd370",
   "metadata": {},
   "outputs": [
    {
     "data": {
      "text/html": [
       "<div>\n",
       "<style scoped>\n",
       "    .dataframe tbody tr th:only-of-type {\n",
       "        vertical-align: middle;\n",
       "    }\n",
       "\n",
       "    .dataframe tbody tr th {\n",
       "        vertical-align: top;\n",
       "    }\n",
       "\n",
       "    .dataframe thead th {\n",
       "        text-align: right;\n",
       "    }\n",
       "</style>\n",
       "<table border=\"1\" class=\"dataframe\">\n",
       "  <thead>\n",
       "    <tr style=\"text-align: right;\">\n",
       "      <th></th>\n",
       "      <th>Names</th>\n",
       "      <th>Class</th>\n",
       "    </tr>\n",
       "  </thead>\n",
       "  <tbody>\n",
       "    <tr>\n",
       "      <th>1</th>\n",
       "      <td>David</td>\n",
       "      <td>Data Vis</td>\n",
       "    </tr>\n",
       "    <tr>\n",
       "      <th>0</th>\n",
       "      <td>Sam</td>\n",
       "      <td>Programming</td>\n",
       "    </tr>\n",
       "    <tr>\n",
       "      <th>4</th>\n",
       "      <td>Marina</td>\n",
       "      <td>Maths</td>\n",
       "    </tr>\n",
       "  </tbody>\n",
       "</table>\n",
       "</div>"
      ],
      "text/plain": [
       "    Names        Class\n",
       "1   David     Data Vis\n",
       "0     Sam  Programming\n",
       "4  Marina        Maths"
      ]
     },
     "execution_count": 116,
     "metadata": {},
     "output_type": "execute_result"
    }
   ],
   "source": [
    "df.sample(3)"
   ]
  },
  {
   "cell_type": "code",
   "execution_count": 117,
   "id": "2977754d",
   "metadata": {},
   "outputs": [
    {
     "data": {
      "text/plain": [
       "(5, 2)"
      ]
     },
     "execution_count": 117,
     "metadata": {},
     "output_type": "execute_result"
    }
   ],
   "source": [
    "df.shape"
   ]
  },
  {
   "cell_type": "code",
   "execution_count": 120,
   "id": "613db97f",
   "metadata": {},
   "outputs": [
    {
     "data": {
      "text/html": [
       "<div>\n",
       "<style scoped>\n",
       "    .dataframe tbody tr th:only-of-type {\n",
       "        vertical-align: middle;\n",
       "    }\n",
       "\n",
       "    .dataframe tbody tr th {\n",
       "        vertical-align: top;\n",
       "    }\n",
       "\n",
       "    .dataframe thead th {\n",
       "        text-align: right;\n",
       "    }\n",
       "</style>\n",
       "<table border=\"1\" class=\"dataframe\">\n",
       "  <thead>\n",
       "    <tr style=\"text-align: right;\">\n",
       "      <th></th>\n",
       "      <th>Names</th>\n",
       "      <th>Class</th>\n",
       "    </tr>\n",
       "  </thead>\n",
       "  <tbody>\n",
       "    <tr>\n",
       "      <th>count</th>\n",
       "      <td>5</td>\n",
       "      <td>5</td>\n",
       "    </tr>\n",
       "    <tr>\n",
       "      <th>unique</th>\n",
       "      <td>5</td>\n",
       "      <td>5</td>\n",
       "    </tr>\n",
       "    <tr>\n",
       "      <th>top</th>\n",
       "      <td>Sam</td>\n",
       "      <td>Programming</td>\n",
       "    </tr>\n",
       "    <tr>\n",
       "      <th>freq</th>\n",
       "      <td>1</td>\n",
       "      <td>1</td>\n",
       "    </tr>\n",
       "  </tbody>\n",
       "</table>\n",
       "</div>"
      ],
      "text/plain": [
       "       Names        Class\n",
       "count      5            5\n",
       "unique     5            5\n",
       "top      Sam  Programming\n",
       "freq       1            1"
      ]
     },
     "execution_count": 120,
     "metadata": {},
     "output_type": "execute_result"
    }
   ],
   "source": [
    "df.describe()"
   ]
  },
  {
   "cell_type": "code",
   "execution_count": 123,
   "id": "39322699",
   "metadata": {},
   "outputs": [
    {
     "data": {
      "text/plain": [
       "Names            Sam\n",
       "Class    Programming\n",
       "Name: 0, dtype: object"
      ]
     },
     "execution_count": 123,
     "metadata": {},
     "output_type": "execute_result"
    }
   ],
   "source": [
    "df.loc[0]"
   ]
  },
  {
   "cell_type": "code",
   "execution_count": 126,
   "id": "77b10cab",
   "metadata": {},
   "outputs": [],
   "source": [
    "df.set_index(\"Names\", inplace=True)"
   ]
  },
  {
   "cell_type": "code",
   "execution_count": 127,
   "id": "218e1214",
   "metadata": {},
   "outputs": [
    {
     "data": {
      "text/html": [
       "<div>\n",
       "<style scoped>\n",
       "    .dataframe tbody tr th:only-of-type {\n",
       "        vertical-align: middle;\n",
       "    }\n",
       "\n",
       "    .dataframe tbody tr th {\n",
       "        vertical-align: top;\n",
       "    }\n",
       "\n",
       "    .dataframe thead th {\n",
       "        text-align: right;\n",
       "    }\n",
       "</style>\n",
       "<table border=\"1\" class=\"dataframe\">\n",
       "  <thead>\n",
       "    <tr style=\"text-align: right;\">\n",
       "      <th></th>\n",
       "      <th>Class</th>\n",
       "    </tr>\n",
       "    <tr>\n",
       "      <th>Names</th>\n",
       "      <th></th>\n",
       "    </tr>\n",
       "  </thead>\n",
       "  <tbody>\n",
       "    <tr>\n",
       "      <th>Sam</th>\n",
       "      <td>Programming</td>\n",
       "    </tr>\n",
       "    <tr>\n",
       "      <th>David</th>\n",
       "      <td>Data Vis</td>\n",
       "    </tr>\n",
       "    <tr>\n",
       "      <th>Muhammed</th>\n",
       "      <td>Machine Learning</td>\n",
       "    </tr>\n",
       "    <tr>\n",
       "      <th>James</th>\n",
       "      <td>Statistics</td>\n",
       "    </tr>\n",
       "    <tr>\n",
       "      <th>Marina</th>\n",
       "      <td>Maths</td>\n",
       "    </tr>\n",
       "  </tbody>\n",
       "</table>\n",
       "</div>"
      ],
      "text/plain": [
       "                     Class\n",
       "Names                     \n",
       "Sam            Programming\n",
       "David             Data Vis\n",
       "Muhammed  Machine Learning\n",
       "James           Statistics\n",
       "Marina               Maths"
      ]
     },
     "execution_count": 127,
     "metadata": {},
     "output_type": "execute_result"
    }
   ],
   "source": [
    "df"
   ]
  },
  {
   "cell_type": "code",
   "execution_count": 129,
   "id": "39a583b6",
   "metadata": {},
   "outputs": [
    {
     "data": {
      "text/plain": [
       "'Programming'"
      ]
     },
     "execution_count": 129,
     "metadata": {},
     "output_type": "execute_result"
    }
   ],
   "source": [
    "df.loc[\"Sam\", \"Class\"]"
   ]
  },
  {
   "cell_type": "code",
   "execution_count": 130,
   "id": "9e900d2d",
   "metadata": {},
   "outputs": [
    {
     "data": {
      "text/plain": [
       "Class    Programming\n",
       "Name: Sam, dtype: object"
      ]
     },
     "execution_count": 130,
     "metadata": {},
     "output_type": "execute_result"
    }
   ],
   "source": [
    "df.loc[\"Sam\"]"
   ]
  },
  {
   "cell_type": "code",
   "execution_count": 131,
   "id": "470b3134",
   "metadata": {},
   "outputs": [
    {
     "data": {
      "text/plain": [
       "Class    Programming\n",
       "Name: Sam, dtype: object"
      ]
     },
     "execution_count": 131,
     "metadata": {},
     "output_type": "execute_result"
    }
   ],
   "source": [
    "df.iloc[0]"
   ]
  },
  {
   "cell_type": "code",
   "execution_count": 132,
   "id": "74251ba4",
   "metadata": {},
   "outputs": [
    {
     "data": {
      "text/plain": [
       "'Programming'"
      ]
     },
     "execution_count": 132,
     "metadata": {},
     "output_type": "execute_result"
    }
   ],
   "source": [
    "df.iloc[0,0]"
   ]
  },
  {
   "cell_type": "code",
   "execution_count": 133,
   "id": "32f8ec3e",
   "metadata": {},
   "outputs": [],
   "source": [
    "df.reset_index(inplace=True)"
   ]
  },
  {
   "cell_type": "code",
   "execution_count": 134,
   "id": "4363a825",
   "metadata": {},
   "outputs": [
    {
     "data": {
      "text/html": [
       "<div>\n",
       "<style scoped>\n",
       "    .dataframe tbody tr th:only-of-type {\n",
       "        vertical-align: middle;\n",
       "    }\n",
       "\n",
       "    .dataframe tbody tr th {\n",
       "        vertical-align: top;\n",
       "    }\n",
       "\n",
       "    .dataframe thead th {\n",
       "        text-align: right;\n",
       "    }\n",
       "</style>\n",
       "<table border=\"1\" class=\"dataframe\">\n",
       "  <thead>\n",
       "    <tr style=\"text-align: right;\">\n",
       "      <th></th>\n",
       "      <th>Names</th>\n",
       "      <th>Class</th>\n",
       "    </tr>\n",
       "  </thead>\n",
       "  <tbody>\n",
       "    <tr>\n",
       "      <th>0</th>\n",
       "      <td>Sam</td>\n",
       "      <td>Programming</td>\n",
       "    </tr>\n",
       "    <tr>\n",
       "      <th>1</th>\n",
       "      <td>David</td>\n",
       "      <td>Data Vis</td>\n",
       "    </tr>\n",
       "    <tr>\n",
       "      <th>2</th>\n",
       "      <td>Muhammed</td>\n",
       "      <td>Machine Learning</td>\n",
       "    </tr>\n",
       "    <tr>\n",
       "      <th>3</th>\n",
       "      <td>James</td>\n",
       "      <td>Statistics</td>\n",
       "    </tr>\n",
       "    <tr>\n",
       "      <th>4</th>\n",
       "      <td>Marina</td>\n",
       "      <td>Maths</td>\n",
       "    </tr>\n",
       "  </tbody>\n",
       "</table>\n",
       "</div>"
      ],
      "text/plain": [
       "      Names             Class\n",
       "0       Sam       Programming\n",
       "1     David          Data Vis\n",
       "2  Muhammed  Machine Learning\n",
       "3     James        Statistics\n",
       "4    Marina             Maths"
      ]
     },
     "execution_count": 134,
     "metadata": {},
     "output_type": "execute_result"
    }
   ],
   "source": [
    "df"
   ]
  },
  {
   "cell_type": "code",
   "execution_count": 135,
   "id": "8cd1eb3c",
   "metadata": {},
   "outputs": [
    {
     "data": {
      "text/html": [
       "<div>\n",
       "<style scoped>\n",
       "    .dataframe tbody tr th:only-of-type {\n",
       "        vertical-align: middle;\n",
       "    }\n",
       "\n",
       "    .dataframe tbody tr th {\n",
       "        vertical-align: top;\n",
       "    }\n",
       "\n",
       "    .dataframe thead th {\n",
       "        text-align: right;\n",
       "    }\n",
       "</style>\n",
       "<table border=\"1\" class=\"dataframe\">\n",
       "  <thead>\n",
       "    <tr style=\"text-align: right;\">\n",
       "      <th></th>\n",
       "      <th>Names</th>\n",
       "      <th>Class</th>\n",
       "    </tr>\n",
       "  </thead>\n",
       "  <tbody>\n",
       "    <tr>\n",
       "      <th>0</th>\n",
       "      <td>Sam</td>\n",
       "      <td>Programming</td>\n",
       "    </tr>\n",
       "    <tr>\n",
       "      <th>1</th>\n",
       "      <td>David</td>\n",
       "      <td>Data Vis</td>\n",
       "    </tr>\n",
       "    <tr>\n",
       "      <th>2</th>\n",
       "      <td>Muhammed</td>\n",
       "      <td>Machine Learning</td>\n",
       "    </tr>\n",
       "    <tr>\n",
       "      <th>3</th>\n",
       "      <td>James</td>\n",
       "      <td>Statistics</td>\n",
       "    </tr>\n",
       "  </tbody>\n",
       "</table>\n",
       "</div>"
      ],
      "text/plain": [
       "      Names             Class\n",
       "0       Sam       Programming\n",
       "1     David          Data Vis\n",
       "2  Muhammed  Machine Learning\n",
       "3     James        Statistics"
      ]
     },
     "execution_count": 135,
     "metadata": {},
     "output_type": "execute_result"
    }
   ],
   "source": [
    "df.iloc[:-1, :]"
   ]
  },
  {
   "cell_type": "code",
   "execution_count": 137,
   "id": "fd48e5ea",
   "metadata": {},
   "outputs": [
    {
     "data": {
      "text/html": [
       "<div>\n",
       "<style scoped>\n",
       "    .dataframe tbody tr th:only-of-type {\n",
       "        vertical-align: middle;\n",
       "    }\n",
       "\n",
       "    .dataframe tbody tr th {\n",
       "        vertical-align: top;\n",
       "    }\n",
       "\n",
       "    .dataframe thead th {\n",
       "        text-align: right;\n",
       "    }\n",
       "</style>\n",
       "<table border=\"1\" class=\"dataframe\">\n",
       "  <thead>\n",
       "    <tr style=\"text-align: right;\">\n",
       "      <th></th>\n",
       "      <th>Names</th>\n",
       "    </tr>\n",
       "  </thead>\n",
       "  <tbody>\n",
       "    <tr>\n",
       "      <th>0</th>\n",
       "      <td>Sam</td>\n",
       "    </tr>\n",
       "    <tr>\n",
       "      <th>1</th>\n",
       "      <td>David</td>\n",
       "    </tr>\n",
       "    <tr>\n",
       "      <th>2</th>\n",
       "      <td>Muhammed</td>\n",
       "    </tr>\n",
       "    <tr>\n",
       "      <th>3</th>\n",
       "      <td>James</td>\n",
       "    </tr>\n",
       "    <tr>\n",
       "      <th>4</th>\n",
       "      <td>Marina</td>\n",
       "    </tr>\n",
       "  </tbody>\n",
       "</table>\n",
       "</div>"
      ],
      "text/plain": [
       "      Names\n",
       "0       Sam\n",
       "1     David\n",
       "2  Muhammed\n",
       "3     James\n",
       "4    Marina"
      ]
     },
     "execution_count": 137,
     "metadata": {},
     "output_type": "execute_result"
    }
   ],
   "source": [
    "df.iloc[: , :-1]"
   ]
  },
  {
   "cell_type": "code",
   "execution_count": 139,
   "id": "e4341b9f",
   "metadata": {},
   "outputs": [
    {
     "data": {
      "text/html": [
       "<div>\n",
       "<style scoped>\n",
       "    .dataframe tbody tr th:only-of-type {\n",
       "        vertical-align: middle;\n",
       "    }\n",
       "\n",
       "    .dataframe tbody tr th {\n",
       "        vertical-align: top;\n",
       "    }\n",
       "\n",
       "    .dataframe thead th {\n",
       "        text-align: right;\n",
       "    }\n",
       "</style>\n",
       "<table border=\"1\" class=\"dataframe\">\n",
       "  <thead>\n",
       "    <tr style=\"text-align: right;\">\n",
       "      <th></th>\n",
       "      <th>Names</th>\n",
       "      <th>Class</th>\n",
       "    </tr>\n",
       "  </thead>\n",
       "  <tbody>\n",
       "    <tr>\n",
       "      <th>1</th>\n",
       "      <td>David</td>\n",
       "      <td>Data Vis</td>\n",
       "    </tr>\n",
       "    <tr>\n",
       "      <th>2</th>\n",
       "      <td>Muhammed</td>\n",
       "      <td>Machine Learning</td>\n",
       "    </tr>\n",
       "    <tr>\n",
       "      <th>3</th>\n",
       "      <td>James</td>\n",
       "      <td>Statistics</td>\n",
       "    </tr>\n",
       "  </tbody>\n",
       "</table>\n",
       "</div>"
      ],
      "text/plain": [
       "      Names             Class\n",
       "1     David          Data Vis\n",
       "2  Muhammed  Machine Learning\n",
       "3     James        Statistics"
      ]
     },
     "execution_count": 139,
     "metadata": {},
     "output_type": "execute_result"
    }
   ],
   "source": [
    "df.iloc[1:4, :]"
   ]
  },
  {
   "cell_type": "code",
   "execution_count": 140,
   "id": "caa41ffa",
   "metadata": {},
   "outputs": [
    {
     "data": {
      "text/html": [
       "<div>\n",
       "<style scoped>\n",
       "    .dataframe tbody tr th:only-of-type {\n",
       "        vertical-align: middle;\n",
       "    }\n",
       "\n",
       "    .dataframe tbody tr th {\n",
       "        vertical-align: top;\n",
       "    }\n",
       "\n",
       "    .dataframe thead th {\n",
       "        text-align: right;\n",
       "    }\n",
       "</style>\n",
       "<table border=\"1\" class=\"dataframe\">\n",
       "  <thead>\n",
       "    <tr style=\"text-align: right;\">\n",
       "      <th></th>\n",
       "      <th>Names</th>\n",
       "      <th>Class</th>\n",
       "    </tr>\n",
       "  </thead>\n",
       "  <tbody>\n",
       "    <tr>\n",
       "      <th>0</th>\n",
       "      <td>Sam</td>\n",
       "      <td>Programming</td>\n",
       "    </tr>\n",
       "    <tr>\n",
       "      <th>1</th>\n",
       "      <td>David</td>\n",
       "      <td>Data Vis</td>\n",
       "    </tr>\n",
       "    <tr>\n",
       "      <th>2</th>\n",
       "      <td>Muhammed</td>\n",
       "      <td>Machine Learning</td>\n",
       "    </tr>\n",
       "    <tr>\n",
       "      <th>3</th>\n",
       "      <td>James</td>\n",
       "      <td>Statistics</td>\n",
       "    </tr>\n",
       "    <tr>\n",
       "      <th>4</th>\n",
       "      <td>Marina</td>\n",
       "      <td>Maths</td>\n",
       "    </tr>\n",
       "  </tbody>\n",
       "</table>\n",
       "</div>"
      ],
      "text/plain": [
       "      Names             Class\n",
       "0       Sam       Programming\n",
       "1     David          Data Vis\n",
       "2  Muhammed  Machine Learning\n",
       "3     James        Statistics\n",
       "4    Marina             Maths"
      ]
     },
     "execution_count": 140,
     "metadata": {},
     "output_type": "execute_result"
    }
   ],
   "source": [
    "df"
   ]
  },
  {
   "cell_type": "code",
   "execution_count": 149,
   "id": "eb81714c",
   "metadata": {},
   "outputs": [],
   "source": [
    "df.index = range (65,70)"
   ]
  },
  {
   "cell_type": "code",
   "execution_count": 150,
   "id": "d6eba318",
   "metadata": {},
   "outputs": [
    {
     "data": {
      "text/html": [
       "<div>\n",
       "<style scoped>\n",
       "    .dataframe tbody tr th:only-of-type {\n",
       "        vertical-align: middle;\n",
       "    }\n",
       "\n",
       "    .dataframe tbody tr th {\n",
       "        vertical-align: top;\n",
       "    }\n",
       "\n",
       "    .dataframe thead th {\n",
       "        text-align: right;\n",
       "    }\n",
       "</style>\n",
       "<table border=\"1\" class=\"dataframe\">\n",
       "  <thead>\n",
       "    <tr style=\"text-align: right;\">\n",
       "      <th></th>\n",
       "      <th>Names</th>\n",
       "      <th>Class</th>\n",
       "    </tr>\n",
       "  </thead>\n",
       "  <tbody>\n",
       "    <tr>\n",
       "      <th>65</th>\n",
       "      <td>Sam</td>\n",
       "      <td>Programming</td>\n",
       "    </tr>\n",
       "    <tr>\n",
       "      <th>66</th>\n",
       "      <td>David</td>\n",
       "      <td>Data Vis</td>\n",
       "    </tr>\n",
       "    <tr>\n",
       "      <th>67</th>\n",
       "      <td>Muhammed</td>\n",
       "      <td>Machine Learning</td>\n",
       "    </tr>\n",
       "    <tr>\n",
       "      <th>68</th>\n",
       "      <td>James</td>\n",
       "      <td>Statistics</td>\n",
       "    </tr>\n",
       "    <tr>\n",
       "      <th>69</th>\n",
       "      <td>Marina</td>\n",
       "      <td>Maths</td>\n",
       "    </tr>\n",
       "  </tbody>\n",
       "</table>\n",
       "</div>"
      ],
      "text/plain": [
       "       Names             Class\n",
       "65       Sam       Programming\n",
       "66     David          Data Vis\n",
       "67  Muhammed  Machine Learning\n",
       "68     James        Statistics\n",
       "69    Marina             Maths"
      ]
     },
     "execution_count": 150,
     "metadata": {},
     "output_type": "execute_result"
    }
   ],
   "source": [
    "df"
   ]
  }
 ],
 "metadata": {
  "kernelspec": {
   "display_name": "Python 3 (ipykernel)",
   "language": "python",
   "name": "python3"
  },
  "language_info": {
   "codemirror_mode": {
    "name": "ipython",
    "version": 3
   },
   "file_extension": ".py",
   "mimetype": "text/x-python",
   "name": "python",
   "nbconvert_exporter": "python",
   "pygments_lexer": "ipython3",
   "version": "3.11.4"
  }
 },
 "nbformat": 4,
 "nbformat_minor": 5
}
